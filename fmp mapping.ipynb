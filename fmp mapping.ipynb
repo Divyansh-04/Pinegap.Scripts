{
 "cells": [
  {
   "cell_type": "code",
   "id": "initial_id",
   "metadata": {
    "collapsed": true,
    "ExecuteTime": {
     "end_time": "2025-06-03T00:07:59.938547Z",
     "start_time": "2025-06-03T00:07:59.901201Z"
    }
   },
   "source": [
    "import requests\n",
    "import json\n",
    "import os\n",
    "from dotenv import load_dotenv\n",
    "import pandas as pd\n"
   ],
   "outputs": [],
   "execution_count": 15
  },
  {
   "metadata": {
    "ExecuteTime": {
     "end_time": "2025-06-03T00:08:02.391425Z",
     "start_time": "2025-06-03T00:08:02.368910Z"
    }
   },
   "cell_type": "code",
   "source": [
    "load_dotenv()\n",
    "\n",
    "url = \"https://financialmodelingprep.com/stable/search-name\"\n",
    "params = {\n",
    "    \"apikey\": os.getenv(\"FMP_KEY\"),\n",
    "    \"exchange\": \"NASDAQ\"\n",
    "}"
   ],
   "id": "cfa0140d1285ae99",
   "outputs": [],
   "execution_count": 16
  },
  {
   "metadata": {
    "ExecuteTime": {
     "end_time": "2025-06-03T00:08:05.364111Z",
     "start_time": "2025-06-03T00:08:05.321603Z"
    }
   },
   "cell_type": "code",
   "source": [
    "df = pd.read_csv(\"./data/FMP ticker mapping - not found v3.csv\", header=None)\n",
    "df.columns = [\"ticker\", \"name\", 'clean name']\n",
    "print(df.head(), len(df))"
   ],
   "id": "d45508c9466e6db3",
   "outputs": [
    {
     "name": "stdout",
     "output_type": "stream",
     "text": [
      "       ticker                             name        clean name\n",
      "0        QFIN               360 DigiTech, Inc.          Digitech\n",
      "1  CGPOWER_IN  CG Power & Industrial Solutions          CG Power\n",
      "2         PAC                 Pacific Airports  Pacific Airports\n",
      "3         NOK                            Nokia             Nokia\n",
      "4        UVSP                          Univest           Univest 117\n"
     ]
    }
   ],
   "execution_count": 17
  },
  {
   "metadata": {
    "ExecuteTime": {
     "end_time": "2025-06-03T00:08:26.575982Z",
     "start_time": "2025-06-03T00:08:26.557114Z"
    }
   },
   "cell_type": "code",
   "source": [
    "def clean(s):\n",
    "    def fix_mojibake_and_convert_to_ascii(s):\n",
    "        s = str(s)\n",
    "        try:\n",
    "            # Step 1: Re-encode as bytes using the encoding that misinterpreted UTF-8\n",
    "            bytes_data = s.encode('latin1')\n",
    "            # Step 2: Decode properly using UTF-8\n",
    "            fixed = bytes_data.decode('utf-8')\n",
    "        except UnicodeEncodeError:\n",
    "            # If encoding fails, fallback to original\n",
    "            fixed = s\n",
    "        except UnicodeDecodeError:\n",
    "            # If decoding fails, fallback to original\n",
    "            fixed = s\n",
    "\n",
    "        # Step 3: Convert to ASCII (remove accents etc.)\n",
    "        import unicodedata\n",
    "        ascii_str = unicodedata.normalize('NFKD', fixed).encode('ascii', 'ignore').decode('ascii')\n",
    "        return ascii_str\n",
    "    s = fix_mojibake_and_convert_to_ascii(s).lower().replace('.','').replace(',','').replace(\"'\",'')\n",
    "    s = s.replace(' ltd','').replace(' inc','').replace('nv','').replace(' co', '').replace('-',' ').replace(' sa', '')\n",
    "    return s.replace(' group', '').replace(' corporation', '').replace(' corp', '')\n",
    "    \n",
    "\n",
    "\n",
    "df['clean name'] = df['clean name'].apply(clean)\n",
    "print(df.head())"
   ],
   "id": "6261e701069a3e5d",
   "outputs": [
    {
     "name": "stdout",
     "output_type": "stream",
     "text": [
      "       ticker                             name        clean name\n",
      "0        QFIN               360 DigiTech, Inc.          digitech\n",
      "1  CGPOWER_IN  CG Power & Industrial Solutions          cg power\n",
      "2         PAC                 Pacific Airports  pacific airports\n",
      "3         NOK                            Nokia             nokia\n",
      "4        UVSP                          Univest           univest\n"
     ]
    }
   ],
   "execution_count": 19
  },
  {
   "metadata": {
    "ExecuteTime": {
     "end_time": "2025-06-03T00:11:06.387181Z",
     "start_time": "2025-06-03T00:08:46.681585Z"
    }
   },
   "cell_type": "code",
   "source": [
    "symbols, names, tickers, fmp_names, exchanges = [], [], [], [], []\n",
    "\n",
    "counter = 0\n",
    "\n",
    "for company, name, ticker in zip(df['clean name'], df['name'], df['ticker']):\n",
    "    print(company)\n",
    "    \n",
    "    params['query'], params['exchange'] = company, \"NASDAQ\"\n",
    "    # r = requests.get(url, params=params)\n",
    "    try:\n",
    "    #     if len(r.json()):\n",
    "    #         for res in r.json():\n",
    "    #             names.append(name)\n",
    "    #             tickers.append(ticker)\n",
    "    #             symbols.append(res['symbol'])\n",
    "    #             fmp_names.append(res['name'])\n",
    "    #             exchanges.append(res['exchange'])\n",
    "    #     else:\n",
    "    #         params['exchange'] = \"NYSE\"\n",
    "    #         r = requests.get(url, params=params)\n",
    "    #         if len(r.json()):\n",
    "    #             for res in r.json():\n",
    "    #                 names.append(name)\n",
    "    #                 tickers.append(ticker)\n",
    "    #                 symbols.append(res['symbol'])\n",
    "    #                 fmp_names.append(res['name'])\n",
    "    #                 exchanges.append(res['exchange'])\n",
    "    #         else:\n",
    "        params['exchange'] = \"\"\n",
    "        r = requests.get(url, params=params)\n",
    "        if len(r.json()) == 0:\n",
    "            raise Exception(\"No data\")\n",
    "        for res in r.json():\n",
    "            names.append(name)\n",
    "            tickers.append(ticker)\n",
    "            symbols.append(res['symbol'])\n",
    "            fmp_names.append(res['name'])\n",
    "            exchanges.append(res['exchange'])\n",
    "            \n",
    "    except Exception as e:\n",
    "        counter += 1\n",
    "        print(e, counter)\n",
    "        names.append(company)\n",
    "        tickers.append(ticker)\n",
    "        symbols.append('')\n",
    "        fmp_names.append('')\n",
    "        exchanges.append('')\n",
    "#         \n",
    "    \n",
    "print(symbols)\n",
    "        "
   ],
   "id": "1df02412aba342f7",
   "outputs": [
    {
     "name": "stdout",
     "output_type": "stream",
     "text": [
      "digitech\n",
      "cg power\n",
      "pacific airports\n",
      "No data 1\n",
      "nokia\n",
      "univest\n",
      "toppan\n",
      "unibail rodamco\n",
      "No data 2\n",
      "orthofix\n",
      "upm\n",
      "spencer\n",
      "gladstone\n",
      "immunic\n",
      "liberty\n",
      "bark\n",
      "trustco bank\n",
      "northwestern\n",
      "raytheon technologies\n",
      "No data 3\n",
      "resources\n",
      "tanger\n",
      "verallia\n",
      "shanghai\n",
      "hygon information\n",
      "No data 4\n",
      "goodwe\n",
      "chr\n",
      "acs\n",
      "galp energia\n",
      "powszechny\n",
      "super league\n",
      "empyrean\n",
      "isoftstone\n",
      "No data 5\n",
      "aena\n",
      "mindray\n",
      "range\n",
      "tf1\n",
      "No data 6\n",
      "byhealth\n",
      "No data 7\n",
      "sinclair\n",
      "gemdale\n",
      "kyverna\n",
      "biohaven\n",
      "bmw\n",
      "warehouses\n",
      "fastighets\n",
      "ams\n",
      "sbb\n",
      "No data 8\n",
      "tingyi\n",
      "l&t\n",
      "zhongsheng\n",
      "nan\n",
      "barnes\n",
      "willscot\n",
      "xperi\n",
      "innovex\n",
      "txo\n",
      "No data 9\n",
      "ew\n",
      "tpi\n",
      "sohu\n",
      "coast bancshares\n",
      "si bone\n",
      "No data 10\n",
      "dsm\n",
      "iestor\n",
      "No data 11\n",
      "ly\n",
      "burke\n",
      "resonac\n",
      "No data 12\n",
      "optimizerx\n",
      "eiri\n",
      "modivcare \n",
      "affle\n",
      "acres\n",
      "oncocyte\n",
      "honest\n",
      "stellus\n",
      "guaranty\n",
      "firstvings\n",
      "No data 13\n",
      "compass\n",
      "stroeer\n",
      "No data 14\n",
      "citizens\n",
      "dare\n",
      "america airports\n",
      "No data 15\n",
      "broadwind\n",
      "j\n",
      "fidus\n",
      "eista\n",
      "No data 16\n",
      "advanced\n",
      "mayville\n",
      "metals\n",
      "y mabs\n",
      "No data 17\n",
      "avient\n",
      "idex\n",
      "cedar\n",
      "duke\n",
      "myt\n",
      "lion\n",
      "omv\n",
      "munich\n",
      "No data 18\n",
      "rbc\n",
      "angi\n",
      "culp\n",
      "weave\n",
      "#value!\n",
      "No data 19\n",
      "kore\n",
      "first bank\n",
      "lulus\n",
      "No data 20\n",
      "americas\n",
      "kws\n",
      "jeronimo\n",
      "No data 21\n",
      "chuys\n",
      "No data 22\n",
      "covenant\n",
      "adtheorent\n",
      "aarons\n",
      "No data 23\n",
      "fdj\n",
      "No data 24\n",
      "just eat\n",
      "inditex\n",
      "No data 25\n",
      "iac\n",
      "gritstone\n",
      "bic\n",
      "atlas\n",
      "jiangsu\n",
      "['2598.HK', 'CGPOWER.NS', 'CGPOWER.BO', '', 'NOKIA-SEK.ST', 'NOKIA.PA', 'NOKIA.HE', 'NOKBF', 'NOK', 'NOA3.DE', 'TYRES.HE', 'NKRKY', 'NKRKF', 'UVSP', 'MVF', 'MVT', 'TOPPY', 'TONPF', '7911.T', '7862.T', '', 'OFIX', 'UPMMY', 'UPMKF', 'UPM.HE', 'RPL.DE', 'SPENCERS.NS', 'SPENCER.BO', 'SPPH', 'MKS.L', 'MAKSY', 'MAKSF', 'LANDP', 'LANDO', 'LANDM', 'LAND', 'GLADL', 'GLAD', 'GOODO', 'GOODN', 'GOODM', 'GOOD', 'GAINP', 'GAINM', 'GAINL', 'GAINI', 'GAIN', '0IVR.L', '0IVQ.L', 'GLEEW', 'GLEEU', 'GLEE', 'GLADZ', 'GAINN', 'GAINZ', 'PGC', 'IMUX', 'LLYVK', 'LLYVA', 'LIBERTSHOE.NS', 'LIBERTSHOE.BO', 'LGD.TO', 'LGDTF', 'LBTYK', 'LBTYB', 'LBTYA', '0XHR.L', '0V46.L', 'LBYKV', 'LBYAV', 'LBRT', 'LBYE', 'LILAK', 'LILAB', 'LILA', '0MDS.L', 'USA', 'LBRDP', 'LBRDK', 'LBRDB', 'LBRDA', 'SCAN.V', 'LDDFF', 'LFG.AX', 'LBNW', 'LTRPB', 'LTRPA', 'LBSI', 'ASG', 'LIBYW', 'LIBYU', 'LIBY', 'LBSR', 'LMACW', 'LMACU', 'LMACA', 'GNCMA', 'LSXMK', 'LSXMB', 'LSXMA', 'OLP', 'FLQE', 'FRUE.L', 'FLXU.L', 'FLXU.DE', 'FVUG.L', 'FLRG.L', 'FLRG.DE', 'FVUE.DE', 'FRGD.L', 'FLXX.L', 'FLXX.DE', 'FLEQ.SW', 'FLEQ.L', 'FVSJ.DE', 'FRQX.L', 'FREM.L', 'FLXE.L', 'FLXE.DE', 'FLQA.L', 'FRXD.L', 'FRGE.L', 'FREQ.L', 'FLXG.L', 'FLXG.DE', 'FLXD.L', 'FLXD.DE', 'FRXE.L', 'FLES.SW', 'FLES.L', 'FLIO', 'FRUC.L', 'FLUC.L', 'BARK-WT', 'BARK', 'BARK.L', 'BKMNF', 'BRO.V', 'BRKCF', '2NZ.F', 'EMBKW', 'EMBK', 'EVO.NZ', 'EVO.AX', 'IBG.AX', 'IBC.AX', 'WBE.AX', 'TRST', 'NWE', '', 'RGP', 'RGSG', 'REZ.AX', 'WRES.L', 'GGPXF', '8186.HK', '1051.HK', 'S2R.AX', 'VRR.V', 'VRRCF', 'SNR.CN', 'BSRSF', 'AMRCF', '7084.KL', 'QXR.AX', 'EVR.AX', 'EQR.AX', 'CII.AX', 'SDAD', 'WA1.AX', 'GFG.V', 'GFGSF', 'GEMR.L', 'GCM.L', 'GCLMF', 'CZR.AX', '7155.KL', '5983.KL', 'SWNLF', 'ROK.V', 'PTRDF', 'PJXRF', 'KWG.CN', 'KWGBF', 'KWG-A.CN', 'KOGMF', 'FECOF', 'EONR', 'DLPRF', 'ARX.TO', 'AJN.CN', 'AETUF', 'TAPP', 'RGCO', 'PNM', 'OWN.V', 'ISMRF', 'ISM.CN', 'GGLXF', 'ESVNF', 'ESNR.CN', 'EOG', 'ALXEF', 'AL.V', '0IDR.L', '9059.KL', 'RXL.AX', 'REY.AX', 'R3D.AX', 'PYX.L', 'PVW.AX', 'OZZ.AX', 'OAR.AX', 'MMR.AX', 'LCL.AX', 'KGLLF', 'KGL.AX', 'GMRSF', 'GME.AX', 'GBZ.AX', 'GBMRF', 'FYIRF', 'FYI.AX', 'FIN.AX', 'BMG.AX', '2112.HK', 'MDU', 'CNX', 'BCMRF', '9930.TW', 'DANR', 'PRB', 'LLKKF', 'LKE.AX', 'VAST.L', 'RMR.L', 'MLSUM.PA', 'MILA.L', 'LDR.AX', 'HWK.AX', 'ARRHW', 'AJAX.L', 'USHA.V', 'USHAF', 'TRBMF', 'TORQ.V', 'SME.V', 'SLMLF', 'SAMMF', 'NKRSF', 'SKT', '0LD4.L', 'VRLA.PA', 'SHANGUSD', '601519.SS', '603881.SS', '601595.SS', '600696.SS', '600652.SS', '600626.SS', '603777.SS', '600823.SS', '600643.SS', '600620.SS', '2570.HK', '688596.SS', '603214.SS', '603037.SS', '600838.SS', '600171.SS', '600630.SS', '600628.SS', '603899.SS', '600610.SS', '605222.SS', '600530.SS', '3666.HK', '300067.SZ', '688317.SS', '2696.HK', '603325.SS', '603003.SS', '600851.SS', '600825.SS', '600621.SS', '600615.SS', '600605.SS', '600315.SS', '002346.SZ', '600834.SS', '600833.SS', '600651.SS', '600604.SS', '600073.SS', '300230.SZ', '0755.HK', '002825.SZ', '001266.SZ', '688085.SS', '603728.SS', '603039.SS', '603012.SS', '600676.SS', '600649.SS', '600619.SS', '600021.SS', '300326.SZ', '300153.SZ', '2276.HK', '688133.SS', '603159.SS', '603121.SS', '600848.SS', '600827.SS', '600641.SS', '002527.SZ', '002328.SZ', '002324.SZ', '688798.SS', '688680.SS', '688107.SS', '603633.SS', '603009.SS', '601200.SS', '600845.SS', '600822.SS', '600624.SS', '300225.SZ', '2145.HK', '002605.SZ', '002486.SZ', 'SGHIY', 'SGHIF', '688590.SS', '603565.SS', '603189.SS', '600732.SS', '0363.HK', 'SHJBF', '688265.SS', '688230.SS', '688180.SS', '605128.SS', '603006.SS', '601968.SS', '601702.SS', '600820.SS', '600616.SS', '600608.SS', '600284.SS', '600170.SS', '1877.HK', '002706.SZ', '', '688390.SS', 'CHRUSD', 'XNLUSD', 'CHROUSD', 'TIMEUSD', 'CHRO.ST', '2360.TW', 'KKUR', 'CMO.JO', 'CHDRY', 'CHDRF', 'CDI.PA', 'CTG.L', 'CDXC', 'CRTSF', 'CHYHY', 'CHROMATIC.NS', 'CHR.CO', 'C79.AX', 'MERI.L', 'CLCFF', 'CLC.CN', 'CHRY.L', 'CBKCQ', 'CWCFX', 'CBTT-B.ST', '1210.HK', 'CNT.BK', 'SHNWF', 'SDR.L', 'SDRC.L', 'SDGR', 'SCL.AX', 'SCP.L', 'SJG.L', 'SCF.L', 'GROW.AX', 'SUPP.L', 'SBSI.L', 'SOI.L', 'SOIFF', '0P00009DRS.SI', '0P0000N4FI.L', 'SBO.L', 'INOV.L', 'SREI.L', 'SERE.L', 'SDP.L', '0P0001LKN0.SI', 'ATR.L', 'AROC', 'DPH.L', 'DPHAY', 'DCHPF', 'APLP', 'SCYUSD', 'SYF-PB', 'SYF-PA', 'SYF', 'SFE.DE', '0LC3.L', '3963.T', 'SNCR', 'SNCRL', 'BACQU', 'BACQ', 'TTCM', 'WNCGUSD', 'TWCI', 'LAYN', 'BOS.WA', '164906.SZ', 'FEKR', 'HUS.VI', 'HEET', 'HTAB', 'HSWFX', 'HCOM', 'SMDIX', 'SEMVX', 'SEMTX', 'SEMNX', 'HFDYX', 'HFDTX', 'SCUIX', 'HOOTX', 'HSWYX', 'SMDVX', 'HHHCX', 'HFDCX', 'HHHSX', 'HFDRX', 'SMDRX', 'SCUVX', 'HOOSX', 'SCURX', 'SIDVX', 'AOMUF', '6232.T', 'ACS.JO', 'AMCY', '6403.TWO', 'ACS.MC', 'ACSAY', 'ACSAF', 'PACS', 'TRCS.L', 'TCIIF', '5817.T', '4299.T', '6743.TW', 'ACST.JK', 'IWML', 'AMNA', 'IWDL', 'IWFL', 'IFED', 'SCDL', 'QULL', 'MTUL', 'MVRL', 'AMTR', 'AMND', 'PFFL', 'MLPR', 'CEFZ', 'CEFD', 'USML', 'DJCB', 'SMHB', 'BDCX', 'LMLB', 'HDLB', 'BDCY', 'ALNEV.PA', '603486.SS', '9832.T', 'RVL.TA', 'ULTI.OL', 'UCI', 'AMU', 'UBM', 'UBG', 'UBC', 'FUD', 'USV', 'UBN', 'SPLX', 'PTM', 'MLPS', 'AMUB', 'UAG', 'MLPG', 'WTIU', 'MLPI', 'PYPE', 'WTID', 'SDYL', 'OILX', 'MORL', 'DJCI', 'CEFL', 'MLPB', 'MLPZ', 'LRET', 'MRRL', 'BDCZ', 'DVHL', 'LMLP', 'SMHD', 'HOML', 'HDLV', 'DVYL', 'MLPQ', 'BDCS', 'BDCL', 'UCIB', 'LBDC', 'WUCT', 'TGHLF', 'GLPEY', 'GLPEF', 'GALP.LS', 'PZU.WA', 'PZAKY', 'PWZYF', 'SLGG', 'SLE', 'EME.L', '', 'ANYYY', 'ANNSF', 'AENA.MC', '0R4Y.IL', '300760.SZ', 'RNGE', 'RFTUSD', 'COAL', 'ROCC', 'RRC', 'RAN.AX', '0KTW.L', 'RNGR', 'NUKZ', 'LNGZ', 'RANGU', 'RANGR', 'RANG', 'OFOS', '300442.SZ', 'GRANGX.ST', 'ORA.PA', 'ORAN', 'FTE.DE', 'FNCTF', 'OJUSX', 'PTTWF', 'OPL.WA', 'OMX.AX', 'OBEL.BR', 'MBISF', 'GRRLF', 'GRR.AX', 'ORKT', 'OBT', '4554.TWO', '8627.HK', '1132.HK', 'VAKRANGEE.NS', 'VAKRANGEE.BO', 'NRG.V', 'NRGOF', '0V9B.L', 'BLRN.TA', 'CAG.AX', 'SNG.V', 'SLRRF', 'HDGE', 'GTR', 'BMRMF', 'BAIN.PA', '0O80.L', '', '', 'SBGI', 'SINCLAIR.NS', 'SINCLAIR.BO', 'HFC', 'DINO', '600383.SS', '0535.HK', 'KYTX', 'BHVN', 'BMW.BO', 'WDPSF', 'WDP.BR', '0MU2.L', 'WEB.BR', 'INTO.BR', '0MTK.L', 'BALDF', 'BALD-B.ST', 'TRIAN-B.ST', 'EMIL-PREF.ST', 'EMIL-B.ST', 'HEBA-B.ST', 'AMAST.ST', 'AMAST-PREF.ST', 'JOMA.ST', 'DQW1.DE', 'AMSG', 'AUKUF', 'AMSSY', 'AMS.SW', '0QWC.L', 'AXPRF', '300521.SZ', '0077.HK', 'SAMS.PA', 'NMYSF', 'CTZ.V', 'IOT', '004270.KS', 'SAMSRITA.BO', '0531.HK', 'GROOMERUSD', 'SMSA', '018260.KS', 'VAMSHIRU.BO', 'SAML', 'RSDEF', 'RFX.L', 'RAMSONS.BO', '0L2T.L', '069500.KS', '006405.KS', '006400.KS', 'JAMSHRI.BO', '029780.KS', '226490.KS', '02826K.KS', '028260.KS', 'DTC.AX', 'DAHLF', '306950.KS', '292190.KS', '001360.KS', '337160.KS', '329670.KS', '329660.KS', '329650.KS', '008355.KS', '008350.KS', 'RMYHY', 'RMSYF', 'RHC.AX', '207940.KS', 'RAMSARUP.NS', 'GDS.PA', '325010.KS', '068290.KS', 'SMSOF', 'SMSEY', '1910.HK', '016360.KS', 'SSU.VI', 'SSUN.VI', 'SSUN.F', 'SSNLF', 'SMSN.L', 'SMSN.IL', 'SMSD.L', 'SMSD.IL', 'BC94.L', '0731.HK', '028050.KS', '005935.KS', '005930.KS', '300950.KS', '325020.KS', '032830.KS', '280930.KS', '006660.KS', '278530.KS', '010145.KS', '010140.KS', '009155.KS', '009150.KS', '2812.HK', '102970.KS', '252670.KS', '3175.HK', '315930.KS', '140710.KS', '000815.KS', '000810.KS', '304940.KS', '368680.KS', '305720.KS', '3187.HK', '140700.KS', '114800.KS', '304660.KS', '114260.KS', '204450.KS', '304670.KS', '321410.KS', '176950.KS', '314250.KS', '', 'TYCMY', 'TCYMF', '910322.TW', '0322.HK', 'LTF.NS', 'L&TFH.NS', 'LTTS.NS', 'LTTS.BO', 'ZSHGY', 'ZHSHF', '0881.HK', '002778.SZ', '002317.SZ', 'XNOUSD', 'N7G.DE', 'NNGRF', 'NN6.DE', 'NA', '6495.TWO', 'NNG.WA', 'NVU.AX', 'NNXPF', 'NNVUF', 'NNLX', 'NNFC', 'NNBXF', 'NBTX', 'NANO.PA', 'GRA.TO', '2610.HK', '0QAV.L', 'NNOCF', 'NHIQ', 'NH', 'NANO.L', 'NANEXA.ST', '7399.T', '417010.KQ', 'NC6.AX', '7417.T', 'NBTUSD', 'NNCSF', 'NAOV', 'NAN.AX', '301591.SZ', 'RMS.L', 'NNVC', 'NNOX', 'NNN.L', 'NNMX', 'NNDM', 'NICA.ST', 'NDL.NS', 'NDL.BO', 'NANOFH.HE', 'NMBTCUSD', 'NTGL', '4571.T', '002040.SZ', 'NNE', '7887.T', '300402.SZ', 'NNPP', 'NNOMF', 'NMGX', 'NANO.TO', 'JAIPURKURT.NS', '9034.T', '603093.SS', '0212.HK', '000525.SZ', 'NVENTURES.BO', '603859.SS', '2108.TW', '002127.SZ', 'OPVS', 'NSCIF', 'NANN', '601975.SS', 'NANHF', '1303.TW', '0680.HK', '002757.SZ', 'NTEK', '6504.TW', '601990.SS', '300585.SZ', '300417.SZ', '300004.SZ', '2408.TW', '000504.SZ', 'NSTGQ', 'NSTG', '600064.SS', '600889.SS', '600282.SS', '300618.SZ', '2101.TW', 'NSHSF', 'NSHS.CN', '4040.T', '000911.SZ', '688105.SS', '6584.TWO', '9044.T', '688633.SS', '4766.TW', '301186.SZ', '300856.SZ', 'NANX', '600712.SS', '603326.SS', '603042.SS', 'BNED', 'WSC', 'XPER', 'TSRA', 'EXPN.L', 'EXPGY', 'EXPGF', 'XPCUSD', 'EXP.AX', 'LUXE', 'MLOEX.PA', 'ACT.L', 'UP-WT', 'UP', 'GEEXW', 'GEEXU', 'GEEX', 'PSY', 'INVX', '', '7249.KL', '5038.T', 'EWRK.ST', 'EWRC', 'EWLL', 'BEWI.OL', 'WWYUSD', '6938.TWO', 'NEWUSD', 'NWG.WA', 'XINXF', 'WE-WT', 'WEWKQ', 'WE', 'NWO.DE', 'NT.CN', 'MLNEI.PA', 'NSPT', 'NEWT.BR', 'NBEV', '9216.T', 'NEWOUSD', 'WEWA', 'NWYU', 'NMAX', 'NGD.TO', 'NGD', 'NEWU.V', 'NEWUF', 'NWCUSD', '301588.SZ', 'NYCUSD', 'NWCI', 'NEWTH', 'NEWR', 'AEWU.L', '0K79.L', 'DEXUSD', 'NWSLV.AX', 'NWS.AX', 'NWSAL', 'NWSA', 'NWS', 'ALREW.PA', '6734.T', '0K7U.L', 'NBSUSD', 'NRWRF', 'NRR.L', 'NEWH', 'NCAU.V', 'NCAUF', '9911.HK', 'YEW.L', 'YEW.IR', 'NWTM', 'NWPG', 'NWL', 'NEWCAP.CO', 'LEOF.TA', 'KWPCY', 'DWHT.L', 'DWHA.L', '3085.TWO', '2809.T', '0K7J.L', 'RWD.AX', 'NYRT', 'NWTG', 'NRG.V', 'NRGOF', 'NMTLF', 'NMRK', 'NMM.DE', 'NGT.TO', 'NEM.AX', 'NEM', 'NAM.V', 'LEW.JO', '0V9B.L', '0R28.L', '091090.KS', 'TROIF', 'RWLK', 'NWT.L', 'NWGIW', 'NWGC', 'NFG.V', 'NFGC', 'NEHC', 'LFWD', 'KWWMF', '1231.HK', 'NTC.WA', 'NPR.AX', 'NLVVF', 'NLV.CN', 'NEWRF', 'NEU', 'NEGG', 'TPIC', 'TPIPL-R.BK', 'TPIPL.BK', 'TPIPP-R.BK', 'TPIPP.BK', 'FATN', 'PIXY', 'TRST.L', 'SOHU', 'TCBX', '', 'DSFIR.AS', 'MSGP', '7636.T', 'FEET.L', 'RDSMY', 'KDSKF', 'DSM.AS', 'NORD.CO', '', 'LYDUSD', 'LYDGBP', 'LYDEUR', 'LYMUSD', 'LYFT', 'LY0.DE', 'LDL', 'LYS.PA', 'LYKISLTD.BO', 'YAHOF', '4689.T', 'LYKALABS.NS', 'LYKALABS.BO', 'LYJN', 'LYTIX.OL', 'LYOPF', 'LYL.AX', 'LYBC', 'C029.DE', 'USVT', 'LYKO-A.ST', 'LYK.AX', 'LMTUSD', 'SP5L.L', 'SP5C.PA', 'SP5C.L', 'LYSPH.SW', 'LYRA', 'LSPX.L', 'LSPU.L', '6TVM.DE', '1293.TWO', 'MSED.PA', 'MSED.DE', 'LYN.AX', 'LYEL', 'LU2090062436.SG', 'C007.F', 'C007.DE', 'LYSDY', 'LYSCF', 'LYGRD.ST', 'LYC.AX', 'C005.DE', 'WLDH.PA', 'UST.PA', 'UST.MI', 'NASL.L', 'NASD.L', 'NADQ.DE', 'LYMS.DE', 'LYINR.SW', 'LU1954152853.SG', 'LCCN.L', 'L4K3.DE', 'INRU.L', 'INRL.L', 'C020.DE', 'BUNH.DE', 'X011.DE', 'TURU.L', 'TUR.PA', 'TURL.L', 'RUSL.L', 'RIOU.L', 'RIO.PA', 'RIOL.L', 'PSPH.PA', 'PSP5.PA', 'LYMH.DE', 'LTUR.DE', 'LBRA.DE', 'GRE.PA', 'E907.F', 'E907.DE', 'E905.DE', 'CACX.L', 'CAC.PA', 'CACC.PA', 'C003.DE', 'X014.DE', 'SMOR.SW', 'PPP.LS', 'LGL.AX', 'LCUA.DE', 'LCAS.L', 'LCAL.L', 'EGV2.DE', 'MIBX.L', 'E908.DE', 'E903.F', 'E903.DE', 'C001.DE', 'X022.DE', 'X020.DE', 'WLDC.MI', 'PUST.PA', 'LYXI.DE', 'LYRBX', 'LYPSAGEMS.NS', 'BHRB', '', 'OPRX', 'PMP.L', 'MODV', 'AFFLE.NS', 'AFFLE.BO', '1376.HK', 'RFLFY', 'RAFLF', 'BSL.SI', 'RICH.CN', 'RAFFF', 'RFLFF', 'NR7.SI', 'AQFD', 'ACR-PD', 'ACR-PC', 'ACR', 'SEAPT.OL', 'OCX', '0KCC.L', 'HNSTUSD', 'HNST', '8043.TWO', 'SCM', 'SCA', 'GBNK', 'GRTYA', 'GNTY', 'GFCJ', 'GFED', 'GRTB.L', 'TGIC', 'TIMESGTY.NS', 'TIMESGTY.BO', 'FGBIP', 'FGBI', 'LUMB', 'SHYAM.BO', 'AGO', 'STRLGUA.BO', '', 'COMP', 'XGR2.DE', 'CPG.L', 'CMPGY', 'CMPGF', 'CODI-PC', 'CODI-PB', 'CODI-PA', 'CODI', 'CMPS', 'COGDF', 'CMPX', 'CDAQW', 'CDAQU', 'CDAQ', 'CMP', 'ECMH', 'EHC', 'ECACU', 'ENCC', 'ERM', 'TERM', '300803.SZ', '', 'CIA', 'CZBC', 'CIZN', 'CIWV', 'CZNL', 'CFIN', 'CFG-PH', 'CFG-PE', 'CFG-PD', 'CFG', '0HYP.L', 'CZNC', 'CZBS', 'CITZ', 'CZWI', 'CZFS', 'CBTN', 'CZNB', 'CZBT', 'CCVS', 'CNBL', 'FIZN', 'FCNCP', 'FCNCO', 'FCNCB', 'FCNCA', 'FSDK', 'DNFTUSD', '688579.SS', '000910.SZ', '300473.SZ', '', 'BWEN', '4570.TWO', 'JPYZAR', 'JPYXAU', 'JPYXAG', 'JPYVND', 'JPYUSD', 'JPYTWD', 'JPYTRY', 'JPYTHB', 'JPYSGD', 'JPYSEK', 'JPYSAR', 'JPYRUB', 'JPYRSD', 'JPYPLN', 'JPYPKR', 'JPYPHP', 'JPYNZD', 'JPYNOK', 'JPYNGN', 'JPYMYR', 'JPYMXN', 'JPYKRW', 'JPYISK', 'JPYINR', 'JPYILS', 'JPYIDR', 'JPYHUF', 'JPYHKD', 'JPYGBP', 'JPYEUR', 'JPYEGP', 'JPYDKK', 'JPYCZK', 'JPYCNY', 'JPYCNH', 'JPYCLP', 'JPYCHF', 'JPYCAD', 'JPYBRL', 'JPYBDT', 'JPYAUD', 'JPYARS', 'JPYAED', 'JODUSD', 'JODILS', 'JODGBP', 'JODEUR', 'JODAED', 'JMDUSD', 'JMDGBP', 'JMDEUR', 'JURUSD', 'JOEUSD', 'JIMUSD', 'JDBUSD', 'JTCPF', 'JTC.L', 'JUNOUSD', 'JTOUSD', 'JSTUSD', 'JET2.L', 'JBSS3.SA', 'JBSAY', 'DRTGF', 'YY', 'JOYY', 'JELLF', '6951.T', '4483.T', '322510.KQ', '006220.KS', 'JPEGUSD', 'UD2.SI', 'JUMSY', 'JUMSF', 'JOAN', 'JDAN.CO', 'JBL', 'FROG', 'BELA.AT', '3841.T', '2729.T', '150A.T', 'WINRUSD', 'JUPUSD', 'JULDUSD', 'JRITUSD', 'JNTRUSD', 'JETUSD', 'JETSUSD', '777USD', 'JWNG.L', 'JTCMF', 'JTAIZ', 'JTAIW', 'JTAI', 'JSE.JO', 'JSEJF', 'JNPKF', 'FDUSZ', 'FDUS', 'FDUSG', '', 'ADVT.L', '3773.T', 'BWQ.DE', 'ABX.DE', 'AVL.JO', 'AVO.L', 'AIBUSD', 'AMD.SW', 'AMD.NE', 'AMD.DE', 'AMD.BA', 'AMD', 'AMPIW', 'AMPI-UN', 'AMPI', '265520.KS', 'AMPI-WT', '3152.TWO', '2330.SR', 'WMS', 'ASW.AX', 'AHI.AX', 'AHI', 'AEIS', 'ABT.DU', '6818.TWO', '3438.TWO', '121600.KQ', 'AVLS', 'ASAB.ST', 'ADVB', 'AOXY', 'AENG', 'ADES', 'ABV.AX', '5TY.SI', '3492.TWO', 'AMS.L', 'ADVENZYMES.NS', 'ADVENZYMES.BO', '8261.TW', '265520.KQ', 'APWL', 'ACTX', 'ADTC', 'ABMT', '6287.TWO', '8086.TWO', '3437.TW', '300620.SZ', 'AVOI', '4749.TWO', '000969.SZ', 'APTCF', '8938.TWO', '6781.TW', 'AVIVF', 'AVIKF', 'AVIFY', 'AISF.F', 'ADVANC-R.BK', 'ADVANC.BK', '688012.SS', '5227.TWO', 'AIT.BK', 'ACC.BK', 'FEAM', 'ABR.AX', '5EA.AX', '5578.T', '5016.T', '178920.KS', 'IB.V', 'IAALF', 'AMVMF', 'AMG.AS', '3465.TWO', '5209.TWO', 'CDTI', '300919.SZ', 'BVC.TA', 'BVC.L', 'ALPAT.PA', '3450.TW', '688560.SS', '33637L.KS', '33637K.KS', '336370.KS', '272290.KQ', '2120.SR', '688456.SS', '600206.SS', '005070.KS', 'MGAM.L', 'MCRUF', 'BA29.L', 'BA05.L', '6797.TWO', 'AVL.TO', 'AVLNF', 'MEC', 'MET1.L', 'MLXEF', 'MLX.AX', 'MTC.AX', 'MLS.AX', 'MTL.L', 'MTAL-WT', 'MTAL-UN', 'MTAL', 'MGA.AX', 'MEK.V', 'MCREF', 'EMT.AX', 'BMTLF', 'BMET.V', '29M.AX', 'RRSSF', 'RDRUY', 'NMT.L', 'NMT.AX', 'CUAUF', 'CCCM.V', 'QUEXF', 'MLGCF', 'GOCOF', 'GOCO.CN', 'AGLAF', 'TG6.AX', 'E2M.AX', '0230.HK', '600058.SS', '600390.SS', 'WIN.AX', 'MRQ.AX', 'INV.TO', 'GPMTF', 'DMNKF', 'CMCXF', 'CMB.V', 'HMZMF', 'EMPS.CN', 'EMPPF', 'BTU.V', 'BTUMF', 'URU.L', 'SKY.AX', 'SI6.AX', 'PNX.AX', 'PNGZF', 'OD6.AX', 'GCX.AX', 'C29.AX', 'BWNAF', 'KM1.AX', 'POL.AX', 'NME.AX', 'BML', 'TMET.V', 'PCRCF', 'MUSK.CN', 'MSMGF', 'LODE.CN', 'GRDM.V', 'FWM.CN', 'EMSKF', 'BOLT.CN', 'AQMS', '0HH6.L', 'TKM.AX', 'PMYLF', 'ODM.AX', 'IR1.AX', 'BML.AX', 'ANX.AX', 'AML.AX', 'AME.AX', 'ALM.AX', 'AEOMF', 'ADC.AX', 'ORSUF', 'HNCKF', 'GIGA.V', '0UXL.L', 'KCM.BK', 'UFO.L', 'ASLRF', 'PRB.V', 'NOMNF', 'LMSQF', 'EREPF', 'CANX.V', 'TLO.TO', 'TLOFF', 'ROVR.V', 'ROVMF', 'PWRMF', 'PWM.V', 'NRRMF', 'NORA.V', 'MNTO.V', '', 'AVNT', 'NAVI', '0K5R.L', 'JSM', 'IDEXUSD', 'IEX', 'IDXAF', 'IDEX.OL', 'IDBA', '0MTP.L', 'IDXX', '0J8P.L', 'TDXUSD', 'UNIDXUSD', 'GDXUSD', 'IRIX', 'SEXUSD', '2435.T', 'CDR-PC', 'CDR-PB', 'CDR', '002485.SZ', 'CWP.AX', 'DUKE.L', 'DUKEOFS.BO', 'DKE.L', 'DKM.AX', 'DUK-PA', 'DUK', 'DRE', '0ID1.L', '0ID0.L', 'DEX.AX', 'DUKB', 'DUKH', '8109.TWO', 'MYTHUSD', 'MTUSD', 'MYRAUSD', 'MYCUSD', 'MYTIL.AT', 'MYTHY', 'MYTHF', 'MYTE', '4431.TWO', 'MMYT', 'LIOPY', 'LIOPF', '4912.T', 'LMIA.F', 'LMIA.DE', 'LIONW', 'LIONU', 'CUBWW', 'CUB', 'LIOEF', 'LIO.AX', 'LPET', 'LMNGF', 'LBI.V', 'LOMLF', 'LLO.AX', 'LIO.V', 'LION', 'LGHL', 'CUBWU', 'CLR.SI', '1127.HK', 'KBGCF', 'LTR.AX', 'LINRF', 'LEO.V', 'LCGMF', 'LSX.AX', 'LGHLW', 'LIOX', '2731.TW', 'LIO.L', 'LGF-B', 'LGF-A', 'LGF', '0P0000X63U.L', 'LCAPW', 'LCAPU', 'LCAP', '603669.SS', '600539.SS', 'YLD.SI', '600277.SS', 'GELN.L', 'GELNF', '300586.SZ', '3494.T', 'ZILLIONXOUSD', 'BHCUSD', 'LMSH.JK', 'LION.JK', '6172.TW', 'NLSC', 'MIPF.BK', 'AILN.TA', '3027.TW', 'TTEXF', '8093.HK', '2892.HK', 'ALELIO.ST', '2299.HK', '1897.HK', 'TRLUSD', 'DUAUSD', 'EBML', '1MILUSD', '1MTUSD', 'SLLGF', 'STLNF', 'LEV.TO', 'LEV', 'GLLHF', '0533.HK', '5450.TWO', 'TRLEF', 'TCFF', 'TCF.CN', '5212.KL', 'ZLIOY', 'ZLIOF', '1157.HK', '000157.SZ', 'CLLN.L', 'CER.L', 'ML', 'MBNKP', 'ML-WT', 'VET.TO', 'VET', 'MM8.AX', 'MLLOF', 'MDL.V', 'GLIOF', 'GL.CN', 'MYRLF', 'MYR.CN', 'MFIN', 'DFL.BO', 'BATL', 'TCLIF', 'OMV.VI', 'OMVKY', 'OMVJF', 'OMV.DE', 'PETB.L', 'PMVM.TA', 'CVT.NZ', 'CVNZF', '', 'RMVIX', 'TEEAX', 'RBRCX', 'RBCL', 'RSMRX', 'ROLLP', 'ROLL', 'RBCP', 'RBC', '6848.TWO', 'RUBY.TO', '0P00016G44', 'RPF.TO', 'RUSIX', 'RUE.TO', 'RIE.TO', 'RBNK.TO', 'RSVIX', 'RQF.TO', 'RQE.TO', 'RUD.TO', 'RID.TO', 'RPSB.TO', 'RCE.TO', 'RUSB.TO', 'RHU.TO', 'RHS.TO', 'RPD.TO', 'RLE.TO', 'RLB.TO', 'RHP.TO', 'RHI.TO', 'RGOIX', 'RCD.TO', 'RQP.TO', 'RQO.TO', 'RQN.TO', 'RQL.TO', 'RQK.TO', 'RQJ.TO', 'RQI.TO', 'RQH.TO', 'RQG.TO', 'RHF.TO', 'RGHYX', 'RBO.TO', 'RLD.TO', 'RUBH.TO', 'RIG.TO', 'RXE.TO', 'RUEH.TO', 'RIEH.TO', 'RXD.TO', 'RUDH.TO', 'RIDH.TO', 'RPDH.TO', 'RBDI.TO', 'ORBUSD', 'ORBC', 'RBCM.ME', 'ANGI', 'AGGX', 'SOAN', 'ANGO', 'ANGN', 'ANGIV', 'BNGI', 'SANGINITA.NS', 'TANGI.ST', '6176.T', '8272.TWO', 'PX.V', 'PGXPF', 'XCHANGING.NS', 'XCHANGING.BO', '038540.KQ', '001290.KS', 'RXTUSD', 'PICO.JK', 'ITAN', 'NXTI', 'NXTV', 'DTAN', 'BTSGU', 'CULP', 'CPORF', 'CPO.AX', 'SCUA-WT', 'SCUA-UN', 'SCUA', 'SCU', 'AIRS', 'WEAVEUSD', 'WEAV', 'ARUSD', 'CRWV', '603039.SS', '605189.SS', '', '034830.KS', 'KP2.L', 'KP2.AX', 'KORE.V', 'KOREF', '479880.KQ', 'KORE.BO', '036460.KS', '010100.KS', '007280.KS', '005880.KS', '033270.KS', '00781K.KS', '007815.KS', '007810.KS', '010130.KS', 'KORE-WT', 'KORE', '003690.KS', '003495.KS', '003490.KS', '002140.KS', '010040.KS', '071320.KS', '123890.KS', '005430.KS', 'KEP', '047810.KS', '015760.KS', '025540.KS', '006650.KS', '004090.KS', '071055.KS', '071050.KS', '029960.KS', '023350.KS', '000970.KS', '029960.KQ', '002200.KS', '477530.KQ', '009540.KS', '130660.KS', '152500.KS', '291130.KS', '316300.KS', '309230.KS', '096300.KS', '299080.KS', '299070.KS', '277540.KS', 'ATKR', '2874.T', 'METKORE.NS', '013870.KS', '256840.KQ', 'KF', '272910.KS', 'KDEF', '114090.KS', 'WKOF.L', '298770.KS', 'SBOX', '122900.KS', '161890.KS', '226380.KS', '024720.KS', 'MKOR', 'KPOP', 'MAKOX', 'HKOR.L', 'HKOD.L', '088980.KS', '156080.KS', '064760.KS', '064760.KQ', 'IQQK.DE', 'IKOR.L', 'IDKO.L', 'FLXK.L', 'FLXK.DE', 'FLRK.L', 'XKSD.L', 'XKS2.L', 'DBX8.DE', '003475.KS', '003470.KS', 'FKO', '024110.KS', 'EWY', 'IKO.AX', 'FLKR', 'KORU', 'PKRW.PA', '289260.KS', '289250.KS', '3KOR.L', 'SSKE.L', 'CSKR.SW', 'CSKR.L', 'HEWY', 'FRBA', 'FBTT', '7184.T', 'IDFCFIRSTB.NS', 'IDFCFIRSTB.BO', 'CFB', 'QFBQ.QA', 'WFBI', '', 'ATA-WT', 'USA.TO', 'USAS', 'ATA-UN', 'ATA', 'UB', 'PARG', 'DKAM', 'LAC.TO', 'LAC', 'LAAC.TO', 'LAAC', 'KWS.SW', 'KWS.DE', 'KNKZF', '', '', 'CVLG', 'NCICX', 'NCGFX', 'NCBIX', 'NCBGX', 'ADTHW', 'ADTH', '', '', 'TKWY.AS', 'TKAYF', 'JTKWY', 'JET.L', 'GRUB', '', 'US44891N2080.SG', 'IAC', '343A.T', 'IACVV', 'VIAUSD', 'SCUSD', 'DXRX.L', 'DIUXF', 'SCCUSD', '1937.HK', 'BCTXW', 'BCTX', 'BCT.TO', 'BCTXZ', 'MDIA', 'ZODIAC.NS', 'ZODIAC.BO', 'ZODJRDMKJ.NS', 'ZODJRDMKJ.BO', 'ZODIACVEN.BO', 'ZODIACLOTH.NS', 'ZODIACLOTH.BO', 'KYRI.AT', 'KAIUSD', 'PONT', '9558.T', 'EDAC.MI', 'ALEAC.PA', 'BRIH.TA', '8131.HK', 'TWELVEUSD', '603535.SS', 'BMTR.JK', 'VOLARA.MX', 'VLRS', 'GRTS', 'BICOUSD', '3048.T', 'CLLKF', 'BICO.ST', 'BCCOY', 'BMKS3.SA', 'BCYC', 'BCAX', '002843.SZ', 'OBIIF', '4684.T', '8071.TWO', '3937.T', '6825.TWO', '4733.T', 'RBCUSD', 'QUBICUSD', 'YUBICO.ST', 'NXPGF', 'MCG.L', 'RWL.AX', 'ROMJ.V', 'ROMJF', '1213.HK', 'CUBXF', 'CUB.TO', 'RBCN', 'RBT-WT', 'RBTC', 'RBT', '2020.SR', 'CUBIFIN.BO', '688665.SS', 'AMBICAAGAR.NS', 'AMBICAAGAR.BO', 'SHIBICUSD', 'ABICUSD', '9617.SR', 'ALEMBICLTD.NS', 'ALEMBICLTD.BO', 'APLLTD.NS', 'APLLTD.BO', '002411.SZ', 'BICEY', 'BICEF', 'BB.PA', 'BICK', 'BKF', 'DBC.WA', '200017.SZ', '000017.SZ', 'ATCO-PI', 'ATCO-PH', 'ATCO-PD', 'ATCOL', 'ATCO', 'ATSUSD', 'ATLPF', 'ATLKY', 'ATLFF', 'ATLCY', 'ATCO-B.ST', 'ATCO-A.ST', 'ACO1.F', '0XXV.IL', 'SALT.V', 'REMRF', 'ATPUSD', 'ATMA.L', 'AAMAF', 'ATP.AX', 'TEAM', 'MAQAF', 'ATL.WA', 'ALX.AX', 'ATLX', 'ATCH', 'AESI', 'ATYG', 'ACICU', 'ATLASCYCLE.NS', 'APEUF', 'AFHIQ', 'AFHIF', 'AFHBL', 'AEP.V', '9563.T', 'ACII-WT', 'ACIIW', 'ACII-UN', 'ACII', 'ATCX', 'AAWW', 'ALSI', '9578.SR', 'ACMDY', 'ARII.JK', 'ATLASUSD', 'HRAL', 'AWEIX', 'OCMAX', '0P00019A9Z.F', '605167.SS', '600770.SS', '002077.SZ', '688258.SS', '600128.SS', '002608.SZ', '002245.SZ', '002075.SZ', '000936.SZ', '600287.SS', '600220.SS', '300855.SZ', '300660.SZ', '603906.SS', '603276.SS', '600105.SS', '002309.SZ', '688176.SS', '603810.SS', '600746.SS', '002394.SZ', '000890.SZ', '603688.SS', '603530.SS', '301116.SZ', '300631.SZ', '300304.SZ', '603915.SS', '601222.SS', '601199.SS', '601100.SS', '301003.SZ', '002883.SZ', '002438.SZ', '605258.SS', '603880.SS', '603787.SS', '603188.SS', '603041.SS', '301168.SZ', '300798.SZ', '300709.SZ', '002409.SZ', 'JEXYY', 'JEXYF', '688116.SS', '605133.SS', '603629.SS', '603028.SS', '601008.SS', '600805.SS', '600377.SS', '600276.SS', '300339.SZ', '300211.SZ', '0177.HK', '002553.SZ', '002519.SZ', '002478.SZ', '688670.SS', '688350.SS', '688182.SS', '603286.SS', '603136.SS', '600901.SS', '600486.SS', '600400.SS', '300165.SZ', '2179.HK', '002471.SZ', '002274.SZ', '002201.SZ', '000301.SZ', '605389.SS', '300717.SZ', '300160.SZ', '002645.SZ', '002559.SZ', '002513.SZ', '002262.SZ', '603937.SS', '301163.SZ', '688488.SS', '603269.SS', '600557.SS', '600522.SS', '300952.SZ', '002172.SZ', '000518.SZ', '603036.SS', '300305.SZ', '002866.SZ', '002160.SZ', '688566.SS', '603693.SS', '603179.SS', '600122.SS', '300761.SZ', '300623.SZ', '300575.SZ']\n"
     ]
    }
   ],
   "execution_count": 20
  },
  {
   "metadata": {
    "ExecuteTime": {
     "end_time": "2025-06-03T00:11:12.704372Z",
     "start_time": "2025-06-03T00:11:12.666125Z"
    }
   },
   "cell_type": "code",
   "source": [
    "df = pd.DataFrame({\n",
    "    'Ticker' : tickers,\n",
    "    'Name' : names,\n",
    "    'FMP name': fmp_names,\n",
    "    'FMP symbol' : symbols,\n",
    "    'Exchange' : exchanges\n",
    "})\n",
    "df.to_csv(r'data/FMP extracted6.csv', index=False)"
   ],
   "id": "7b8c25d6567d633f",
   "outputs": [],
   "execution_count": 21
  },
  {
   "metadata": {
    "ExecuteTime": {
     "end_time": "2025-06-02T13:21:11.193723Z",
     "start_time": "2025-06-02T13:21:11.087411Z"
    }
   },
   "cell_type": "code",
   "source": [
    "print(counter)\n",
    "exit()"
   ],
   "id": "7ec203a17cc21f1",
   "outputs": [
    {
     "name": "stdout",
     "output_type": "stream",
     "text": [
      "120\n"
     ]
    }
   ],
   "execution_count": 27
  }
 ],
 "metadata": {
  "kernelspec": {
   "display_name": "Python 3",
   "language": "python",
   "name": "python3"
  },
  "language_info": {
   "codemirror_mode": {
    "name": "ipython",
    "version": 2
   },
   "file_extension": ".py",
   "mimetype": "text/x-python",
   "name": "python",
   "nbconvert_exporter": "python",
   "pygments_lexer": "ipython2",
   "version": "2.7.6"
  }
 },
 "nbformat": 4,
 "nbformat_minor": 5
}
