{
 "cells": [
  {
   "cell_type": "code",
   "execution_count": 1,
   "id": "bc39e653-8e1d-4f2f-b0d0-8afdf0beb910",
   "metadata": {},
   "outputs": [],
   "source": [
    "import selenium"
   ]
  },
  {
   "cell_type": "code",
   "execution_count": 2,
   "id": "8e799ed2-6c97-457f-b697-71cf0dff2fd9",
   "metadata": {},
   "outputs": [],
   "source": [
    "from webdriver_manager.chrome import ChromeDriverManager"
   ]
  },
  {
   "cell_type": "code",
   "execution_count": 3,
   "id": "a27976b8-af91-4da9-b258-0aae41162065",
   "metadata": {},
   "outputs": [],
   "source": [
    "path = ChromeDriverManager().install()"
   ]
  },
  {
   "cell_type": "code",
   "execution_count": 4,
   "id": "d767c51e-1492-4cd9-826c-eccce8251c49",
   "metadata": {},
   "outputs": [],
   "source": [
    "import pandas as pd"
   ]
  },
  {
   "cell_type": "code",
   "execution_count": 5,
   "id": "6607662a-09af-42a1-9cee-6667b1596c28",
   "metadata": {},
   "outputs": [
    {
     "data": {
      "text/html": [
       "<div>\n",
       "<style scoped>\n",
       "    .dataframe tbody tr th:only-of-type {\n",
       "        vertical-align: middle;\n",
       "    }\n",
       "\n",
       "    .dataframe tbody tr th {\n",
       "        vertical-align: top;\n",
       "    }\n",
       "\n",
       "    .dataframe thead th {\n",
       "        text-align: right;\n",
       "    }\n",
       "</style>\n",
       "<table border=\"1\" class=\"dataframe\">\n",
       "  <thead>\n",
       "    <tr style=\"text-align: right;\">\n",
       "      <th></th>\n",
       "      <th>Company name</th>\n",
       "    </tr>\n",
       "  </thead>\n",
       "  <tbody>\n",
       "    <tr>\n",
       "      <th>0</th>\n",
       "      <td>Kyndryl Holdings, Inc.</td>\n",
       "    </tr>\n",
       "    <tr>\n",
       "      <th>1</th>\n",
       "      <td>Keysight Technologies, Inc.</td>\n",
       "    </tr>\n",
       "    <tr>\n",
       "      <th>2</th>\n",
       "      <td>Kirby Corporation</td>\n",
       "    </tr>\n",
       "    <tr>\n",
       "      <th>3</th>\n",
       "      <td>Kinder Morgan, Inc.</td>\n",
       "    </tr>\n",
       "    <tr>\n",
       "      <th>4</th>\n",
       "      <td>OPENLANE Inc</td>\n",
       "    </tr>\n",
       "  </tbody>\n",
       "</table>\n",
       "</div>"
      ],
      "text/plain": [
       "                  Company name\n",
       "0       Kyndryl Holdings, Inc.\n",
       "1  Keysight Technologies, Inc.\n",
       "2            Kirby Corporation\n",
       "3          Kinder Morgan, Inc.\n",
       "4                 OPENLANE Inc"
      ]
     },
     "execution_count": 5,
     "metadata": {},
     "output_type": "execute_result"
    }
   ],
   "source": [
    "df = pd.read_excel(\"Company_name.xlsx\")\n",
    "df.head()"
   ]
  },
  {
   "cell_type": "code",
   "execution_count": 6,
   "id": "e1bbfefa-94d3-40a4-8dbd-437301d3244a",
   "metadata": {},
   "outputs": [
    {
     "data": {
      "text/html": [
       "<div>\n",
       "<style scoped>\n",
       "    .dataframe tbody tr th:only-of-type {\n",
       "        vertical-align: middle;\n",
       "    }\n",
       "\n",
       "    .dataframe tbody tr th {\n",
       "        vertical-align: top;\n",
       "    }\n",
       "\n",
       "    .dataframe thead th {\n",
       "        text-align: right;\n",
       "    }\n",
       "</style>\n",
       "<table border=\"1\" class=\"dataframe\">\n",
       "  <thead>\n",
       "    <tr style=\"text-align: right;\">\n",
       "      <th></th>\n",
       "      <th>Company name</th>\n",
       "    </tr>\n",
       "  </thead>\n",
       "  <tbody>\n",
       "    <tr>\n",
       "      <th>1202</th>\n",
       "      <td>Denali Therapeutics Inc.</td>\n",
       "    </tr>\n",
       "  </tbody>\n",
       "</table>\n",
       "</div>"
      ],
      "text/plain": [
       "                  Company name\n",
       "1202  Denali Therapeutics Inc."
      ]
     },
     "execution_count": 6,
     "metadata": {},
     "output_type": "execute_result"
    }
   ],
   "source": [
    "df[df['Company name']==\t'Denali Therapeutics Inc.']"
   ]
  },
  {
   "cell_type": "code",
   "execution_count": 7,
   "id": "3742daed-aab8-4176-98ae-b73ed1dbb2f5",
   "metadata": {},
   "outputs": [],
   "source": [
    "df2 = df.iloc[1202:1302]"
   ]
  },
  {
   "cell_type": "code",
   "execution_count": 36,
   "id": "d0f5050b-1cef-477a-920d-7661e7090d8e",
   "metadata": {},
   "outputs": [
    {
     "data": {
      "text/plain": [
       "Index(['Company name'], dtype='object')"
      ]
     },
     "execution_count": 36,
     "metadata": {},
     "output_type": "execute_result"
    }
   ],
   "source": [
    "df.columns"
   ]
  },
  {
   "cell_type": "code",
   "execution_count": 22,
   "id": "59c1eb76-0756-4bd2-95e8-d6711f407fa8",
   "metadata": {},
   "outputs": [
    {
     "data": {
      "text/html": [
       "<div>\n",
       "<style scoped>\n",
       "    .dataframe tbody tr th:only-of-type {\n",
       "        vertical-align: middle;\n",
       "    }\n",
       "\n",
       "    .dataframe tbody tr th {\n",
       "        vertical-align: top;\n",
       "    }\n",
       "\n",
       "    .dataframe thead th {\n",
       "        text-align: right;\n",
       "    }\n",
       "</style>\n",
       "<table border=\"1\" class=\"dataframe\">\n",
       "  <thead>\n",
       "    <tr style=\"text-align: right;\">\n",
       "      <th></th>\n",
       "      <th>Company name</th>\n",
       "    </tr>\n",
       "  </thead>\n",
       "  <tbody>\n",
       "    <tr>\n",
       "      <th>642</th>\n",
       "      <td>Energizer Holdings, Inc.</td>\n",
       "    </tr>\n",
       "  </tbody>\n",
       "</table>\n",
       "</div>"
      ],
      "text/plain": [
       "                 Company name\n",
       "642  Energizer Holdings, Inc."
      ]
     },
     "execution_count": 22,
     "metadata": {},
     "output_type": "execute_result"
    }
   ],
   "source": [
    "df[df['Company name']=='Energizer Holdings, Inc.']"
   ]
  },
  {
   "cell_type": "code",
   "execution_count": 8,
   "id": "964fd738-b3f9-4cc8-b05d-493e12c9637c",
   "metadata": {},
   "outputs": [],
   "source": [
    "company_list = df2.values"
   ]
  },
  {
   "cell_type": "code",
   "execution_count": 9,
   "id": "ad2c1ab3-44a1-4386-bd9b-c73934f895b9",
   "metadata": {},
   "outputs": [
    {
     "data": {
      "text/plain": [
       "100"
      ]
     },
     "execution_count": 9,
     "metadata": {},
     "output_type": "execute_result"
    }
   ],
   "source": [
    "len(company_list)"
   ]
  },
  {
   "cell_type": "code",
   "execution_count": 10,
   "id": "e4d51616-a6a9-4827-a6da-fba99bd740a3",
   "metadata": {},
   "outputs": [
    {
     "data": {
      "text/plain": [
       "array(['Denali Therapeutics Inc.'], dtype=object)"
      ]
     },
     "execution_count": 10,
     "metadata": {},
     "output_type": "execute_result"
    }
   ],
   "source": [
    "company_list[0]"
   ]
  },
  {
   "cell_type": "code",
   "execution_count": 10,
   "id": "647ceebc-eddb-4521-a524-a72e1cc415ab",
   "metadata": {},
   "outputs": [],
   "source": [
    "company_name = df2['Company name'].values"
   ]
  },
  {
   "cell_type": "code",
   "execution_count": null,
   "id": "6cb26fd4-8e12-402f-b8fc-ff2fefa845ce",
   "metadata": {
    "scrolled": true
   },
   "outputs": [
    {
     "name": "stdout",
     "output_type": "stream",
     "text": [
      "\n",
      "✅ ['Denali Therapeutics Inc.'] → Denali Therapeutics Inc. (DNLI) | Revenue (TTM): --\n",
      "\n",
      "✅ ['Denali Therapeutics Inc.'] → Denali Therapeutics Inc. (4DN.F) | Revenue (TTM): --\n",
      "\n",
      "✅ ['Denali Therapeutics Inc.'] → Denali Therapeutics Inc. (D2NL34.SA) | Revenue (TTM): --\n",
      "\n",
      "✅ ['United Rentals, Inc.'] → United Rentals, Inc. (URI) | Revenue (TTM): 15.35B\n",
      "❌ Skipped result-2 for '['United Rentals, Inc.']': Message: \n",
      "Stacktrace:\n",
      "\tGetHandleVerifier [0x010680E3+60707]\n",
      "\tGetHandleVerifier [0x01068124+60772]\n",
      "\t(No symbol) [0x00E90683]\n",
      "\t(No symbol) [0x00ED8660]\n",
      "\t(No symbol) [0x00ED89FB]\n",
      "\t(No symbol) [0x00F21022]\n",
      "\t(No symbol) [0x00EFD094]\n",
      "\t(No symbol) [0x00F1E824]\n",
      "\t(No symbol) [0x00EFCE46]\n",
      "\t(No symbol) [0x00ECC5D3]\n",
      "\t(No symbol) [0x00ECD424]\n",
      "\tGetHandleVerifier [0x012ABBC3+2435075]\n",
      "\tGetHandleVerifier [0x012A7163+2416035]\n",
      "\tGetHandleVerifier [0x012C350C+2531660]\n",
      "\tGetHandleVerifier [0x0107F1B5+155125]\n",
      "\tGetHandleVerifier [0x01085B5D+182173]\n",
      "\tGetHandleVerifier [0x0106F9B8+91640]\n",
      "\tGetHandleVerifier [0x0106FB60+92064]\n",
      "\tGetHandleVerifier [0x0105A620+4704]\n",
      "\tBaseThreadInitThunk [0x768DFCC9+25]\n",
      "\tRtlGetAppContainerNamedObjectPath [0x778182AE+286]\n",
      "\tRtlGetAppContainerNamedObjectPath [0x7781827E+238]\n",
      "\n",
      "❌ Skipped result-3 for '['United Rentals, Inc.']': Message: \n",
      "Stacktrace:\n",
      "\tGetHandleVerifier [0x010680E3+60707]\n",
      "\tGetHandleVerifier [0x01068124+60772]\n",
      "\t(No symbol) [0x00E90683]\n",
      "\t(No symbol) [0x00ED8660]\n",
      "\t(No symbol) [0x00ED89FB]\n",
      "\t(No symbol) [0x00F21022]\n",
      "\t(No symbol) [0x00EFD094]\n",
      "\t(No symbol) [0x00F1E824]\n",
      "\t(No symbol) [0x00EFCE46]\n",
      "\t(No symbol) [0x00ECC5D3]\n",
      "\t(No symbol) [0x00ECD424]\n",
      "\tGetHandleVerifier [0x012ABBC3+2435075]\n",
      "\tGetHandleVerifier [0x012A7163+2416035]\n",
      "\tGetHandleVerifier [0x012C350C+2531660]\n",
      "\tGetHandleVerifier [0x0107F1B5+155125]\n",
      "\tGetHandleVerifier [0x01085B5D+182173]\n",
      "\tGetHandleVerifier [0x0106F9B8+91640]\n",
      "\tGetHandleVerifier [0x0106FB60+92064]\n",
      "\tGetHandleVerifier [0x0105A620+4704]\n",
      "\tBaseThreadInitThunk [0x768DFCC9+25]\n",
      "\tRtlGetAppContainerNamedObjectPath [0x778182AE+286]\n",
      "\tRtlGetAppContainerNamedObjectPath [0x7781827E+238]\n",
      "\n",
      "\n",
      "✅ ['US Foods Holding Corp.'] → US Foods Holding Corp. (USFD) | Revenue (TTM): 37.88B\n",
      "\n",
      "✅ ['US Foods Holding Corp.'] → US Foods Holding Corp (UFH.BE) | Revenue (TTM): --\n",
      "❌ Skipped result-3 for '['US Foods Holding Corp.']': Message: \n",
      "Stacktrace:\n",
      "\tGetHandleVerifier [0x010680E3+60707]\n",
      "\tGetHandleVerifier [0x01068124+60772]\n",
      "\t(No symbol) [0x00E90683]\n",
      "\t(No symbol) [0x00ED8660]\n",
      "\t(No symbol) [0x00ED89FB]\n",
      "\t(No symbol) [0x00F21022]\n",
      "\t(No symbol) [0x00EFD094]\n",
      "\t(No symbol) [0x00F1E824]\n",
      "\t(No symbol) [0x00EFCE46]\n",
      "\t(No symbol) [0x00ECC5D3]\n",
      "\t(No symbol) [0x00ECD424]\n",
      "\tGetHandleVerifier [0x012ABBC3+2435075]\n",
      "\tGetHandleVerifier [0x012A7163+2416035]\n",
      "\tGetHandleVerifier [0x012C350C+2531660]\n",
      "\tGetHandleVerifier [0x0107F1B5+155125]\n",
      "\tGetHandleVerifier [0x01085B5D+182173]\n",
      "\tGetHandleVerifier [0x0106F9B8+91640]\n",
      "\tGetHandleVerifier [0x0106FB60+92064]\n",
      "\tGetHandleVerifier [0x0105A620+4704]\n",
      "\tBaseThreadInitThunk [0x768DFCC9+25]\n",
      "\tRtlGetAppContainerNamedObjectPath [0x778182AE+286]\n",
      "\tRtlGetAppContainerNamedObjectPath [0x7781827E+238]\n",
      "\n",
      "❌ Skipped result-1 for '['Shake Shack Inc.']': Message: \n",
      "Stacktrace:\n",
      "\tGetHandleVerifier [0x010680E3+60707]\n",
      "\tGetHandleVerifier [0x01068124+60772]\n",
      "\t(No symbol) [0x00E90683]\n",
      "\t(No symbol) [0x00ED8660]\n",
      "\t(No symbol) [0x00ED89FB]\n",
      "\t(No symbol) [0x00F21022]\n",
      "\t(No symbol) [0x00EFD094]\n",
      "\t(No symbol) [0x00F1E824]\n",
      "\t(No symbol) [0x00EFCE46]\n",
      "\t(No symbol) [0x00ECC5D3]\n",
      "\t(No symbol) [0x00ECD424]\n",
      "\tGetHandleVerifier [0x012ABBC3+2435075]\n",
      "\tGetHandleVerifier [0x012A7163+2416035]\n",
      "\tGetHandleVerifier [0x012C350C+2531660]\n",
      "\tGetHandleVerifier [0x0107F1B5+155125]\n",
      "\tGetHandleVerifier [0x01085B5D+182173]\n",
      "\tGetHandleVerifier [0x0106F9B8+91640]\n",
      "\tGetHandleVerifier [0x0106FB60+92064]\n",
      "\tGetHandleVerifier [0x0105A620+4704]\n",
      "\tBaseThreadInitThunk [0x768DFCC9+25]\n",
      "\tRtlGetAppContainerNamedObjectPath [0x778182AE+286]\n",
      "\tRtlGetAppContainerNamedObjectPath [0x7781827E+238]\n",
      "\n",
      "\n",
      "✅ ['Shake Shack Inc.'] → Shake Shack Inc. (0L5R.L) | Revenue (TTM): 1.25B\n",
      "❌ Skipped result-3 for '['Shake Shack Inc.']': Message: \n",
      "Stacktrace:\n",
      "\tGetHandleVerifier [0x010680E3+60707]\n",
      "\tGetHandleVerifier [0x01068124+60772]\n",
      "\t(No symbol) [0x00E90683]\n",
      "\t(No symbol) [0x00ED8660]\n",
      "\t(No symbol) [0x00ED89FB]\n",
      "\t(No symbol) [0x00F21022]\n",
      "\t(No symbol) [0x00EFD094]\n",
      "\t(No symbol) [0x00F1E824]\n",
      "\t(No symbol) [0x00EFCE46]\n",
      "\t(No symbol) [0x00ECC5D3]\n",
      "\t(No symbol) [0x00ECD424]\n",
      "\tGetHandleVerifier [0x012ABBC3+2435075]\n",
      "\tGetHandleVerifier [0x012A7163+2416035]\n",
      "\tGetHandleVerifier [0x012C350C+2531660]\n",
      "\tGetHandleVerifier [0x0107F1B5+155125]\n",
      "\tGetHandleVerifier [0x01085B5D+182173]\n",
      "\tGetHandleVerifier [0x0106F9B8+91640]\n",
      "\tGetHandleVerifier [0x0106FB60+92064]\n",
      "\tGetHandleVerifier [0x0105A620+4704]\n",
      "\tBaseThreadInitThunk [0x768DFCC9+25]\n",
      "\tRtlGetAppContainerNamedObjectPath [0x778182AE+286]\n",
      "\tRtlGetAppContainerNamedObjectPath [0x7781827E+238]\n",
      "\n",
      "\n",
      "✅ ['Steven Madden, Ltd.'] → Steven Madden, Ltd. (SHOO) | Revenue (TTM): 2.28B\n",
      "\n",
      "✅ ['Steven Madden, Ltd.'] → ZIM Integrated Shipping Services Ltd. (ZIM) | Revenue (TTM): 8.43B\n",
      "❌ Skipped result-3 for '['Steven Madden, Ltd.']': Message: \n",
      "Stacktrace:\n",
      "\tGetHandleVerifier [0x010680E3+60707]\n",
      "\tGetHandleVerifier [0x01068124+60772]\n",
      "\t(No symbol) [0x00E90683]\n",
      "\t(No symbol) [0x00ED8660]\n",
      "\t(No symbol) [0x00ED89FB]\n",
      "\t(No symbol) [0x00F21022]\n",
      "\t(No symbol) [0x00EFD094]\n",
      "\t(No symbol) [0x00F1E824]\n",
      "\t(No symbol) [0x00EFCE46]\n",
      "\t(No symbol) [0x00ECC5D3]\n",
      "\t(No symbol) [0x00ECD424]\n",
      "\tGetHandleVerifier [0x012ABBC3+2435075]\n",
      "\tGetHandleVerifier [0x012A7163+2416035]\n",
      "\tGetHandleVerifier [0x012C350C+2531660]\n",
      "\tGetHandleVerifier [0x0107F1B5+155125]\n",
      "\tGetHandleVerifier [0x01085B5D+182173]\n",
      "\tGetHandleVerifier [0x0106F9B8+91640]\n",
      "\tGetHandleVerifier [0x0106FB60+92064]\n",
      "\tGetHandleVerifier [0x0105A620+4704]\n",
      "\tBaseThreadInitThunk [0x768DFCC9+25]\n",
      "\tRtlGetAppContainerNamedObjectPath [0x778182AE+286]\n",
      "\tRtlGetAppContainerNamedObjectPath [0x7781827E+238]\n",
      "\n",
      "\n",
      "✅ ['Sunstone Hotel Investors, Inc.'] → Sunstone Hotel Investors, Inc. (SHO) | Revenue (TTM): 905.81M\n",
      "\n",
      "✅ ['Sunstone Hotel Investors, Inc.'] → Defiance Gold Enhanced Options Income ETF (GLDY) | Revenue (TTM): nan\n",
      "❌ Skipped result-3 for '['Sunstone Hotel Investors, Inc.']': Message: \n",
      "Stacktrace:\n",
      "\tGetHandleVerifier [0x010680E3+60707]\n",
      "\tGetHandleVerifier [0x01068124+60772]\n",
      "\t(No symbol) [0x00E90683]\n",
      "\t(No symbol) [0x00ED8660]\n",
      "\t(No symbol) [0x00ED89FB]\n",
      "\t(No symbol) [0x00F21022]\n",
      "\t(No symbol) [0x00EFD094]\n",
      "\t(No symbol) [0x00F1E824]\n",
      "\t(No symbol) [0x00EFCE46]\n",
      "\t(No symbol) [0x00ECC5D3]\n",
      "\t(No symbol) [0x00ECD424]\n",
      "\tGetHandleVerifier [0x012ABBC3+2435075]\n",
      "\tGetHandleVerifier [0x012A7163+2416035]\n",
      "\tGetHandleVerifier [0x012C350C+2531660]\n",
      "\tGetHandleVerifier [0x0107F1B5+155125]\n",
      "\tGetHandleVerifier [0x01085B5D+182173]\n",
      "\tGetHandleVerifier [0x0106F9B8+91640]\n",
      "\tGetHandleVerifier [0x0106FB60+92064]\n",
      "\tGetHandleVerifier [0x0105A620+4704]\n",
      "\tBaseThreadInitThunk [0x768DFCC9+25]\n",
      "\tRtlGetAppContainerNamedObjectPath [0x778182AE+286]\n",
      "\tRtlGetAppContainerNamedObjectPath [0x7781827E+238]\n",
      "\n",
      "\n",
      "✅ ['Shoals Technologies Group, Inc.'] → Shoals Technologies Group, Inc. (SHLS) | Revenue (TTM): 399.21M\n",
      "\n",
      "✅ ['Shoals Technologies Group, Inc.'] → Defiance Gold Enhanced Options Income ETF (GLDY) | Revenue (TTM): nan\n",
      "❌ Skipped result-3 for '['Shoals Technologies Group, Inc.']': Message: \n",
      "Stacktrace:\n",
      "\tGetHandleVerifier [0x010680E3+60707]\n",
      "\tGetHandleVerifier [0x01068124+60772]\n",
      "\t(No symbol) [0x00E90683]\n",
      "\t(No symbol) [0x00ED8660]\n",
      "\t(No symbol) [0x00ED89FB]\n",
      "\t(No symbol) [0x00F21022]\n",
      "\t(No symbol) [0x00EFD094]\n",
      "\t(No symbol) [0x00F1E824]\n",
      "\t(No symbol) [0x00EFCE46]\n",
      "\t(No symbol) [0x00ECC5D3]\n",
      "\t(No symbol) [0x00ECD424]\n",
      "\tGetHandleVerifier [0x012ABBC3+2435075]\n",
      "\tGetHandleVerifier [0x012A7163+2416035]\n",
      "\tGetHandleVerifier [0x012C350C+2531660]\n",
      "\tGetHandleVerifier [0x0107F1B5+155125]\n",
      "\tGetHandleVerifier [0x01085B5D+182173]\n",
      "\tGetHandleVerifier [0x0106F9B8+91640]\n",
      "\tGetHandleVerifier [0x0106FB60+92064]\n",
      "\tGetHandleVerifier [0x0105A620+4704]\n",
      "\tBaseThreadInitThunk [0x768DFCC9+25]\n",
      "\tRtlGetAppContainerNamedObjectPath [0x778182AE+286]\n",
      "\tRtlGetAppContainerNamedObjectPath [0x7781827E+238]\n",
      "\n",
      "\n",
      "✅ ['Stifel Financial Corp.'] → Stifel Financial Corp. (SF) | Revenue (TTM): 4.94B\n",
      "\n",
      "✅ ['Stifel Financial Corp.'] → Stifel Financial Corporation 5. (SFB) | Revenue (TTM): --\n",
      "❌ Skipped result-3 for '['Stifel Financial Corp.']': Message: \n",
      "Stacktrace:\n",
      "\tGetHandleVerifier [0x010680E3+60707]\n",
      "\tGetHandleVerifier [0x01068124+60772]\n",
      "\t(No symbol) [0x00E90683]\n",
      "\t(No symbol) [0x00ED8660]\n",
      "\t(No symbol) [0x00ED89FB]\n",
      "\t(No symbol) [0x00F21022]\n",
      "\t(No symbol) [0x00EFD094]\n",
      "\t(No symbol) [0x00F1E824]\n",
      "\t(No symbol) [0x00EFCE46]\n",
      "\t(No symbol) [0x00ECC5D3]\n",
      "\t(No symbol) [0x00ECD424]\n",
      "\tGetHandleVerifier [0x012ABBC3+2435075]\n",
      "\tGetHandleVerifier [0x012A7163+2416035]\n",
      "\tGetHandleVerifier [0x012C350C+2531660]\n",
      "\tGetHandleVerifier [0x0107F1B5+155125]\n",
      "\tGetHandleVerifier [0x01085B5D+182173]\n",
      "\tGetHandleVerifier [0x0106F9B8+91640]\n",
      "\tGetHandleVerifier [0x0106FB60+92064]\n",
      "\tGetHandleVerifier [0x0105A620+4704]\n",
      "\tBaseThreadInitThunk [0x768DFCC9+25]\n",
      "\tRtlGetAppContainerNamedObjectPath [0x778182AE+286]\n",
      "\tRtlGetAppContainerNamedObjectPath [0x7781827E+238]\n",
      "\n",
      "\n",
      "✅ ['Upbound Group, Inc.'] → Upbound Group, Inc. (UPBD) | Revenue (TTM): 4.32B\n",
      "\n",
      "✅ ['Upbound Group, Inc.'] → Defiance Gold Enhanced Options Income ETF (GLDY) | Revenue (TTM): nan\n"
     ]
    }
   ],
   "source": [
    "import csv\n",
    "import time\n",
    "import pandas as pd\n",
    "import numpy as np\n",
    "from selenium import webdriver\n",
    "from selenium.webdriver.chrome.service import Service\n",
    "from selenium.webdriver.common.by import By\n",
    "from selenium.webdriver.support.ui import WebDriverWait\n",
    "from selenium.webdriver.support import expected_conditions as EC\n",
    "\n",
    "website = 'https://finance.yahoo.com/'\n",
    "\n",
    "output_file = \"company_revenue_data_yahoo3.csv\"\n",
    "\n",
    "service = Service(executable_path=path)\n",
    "driver = webdriver.Chrome(service=service)\n",
    "output_data = []\n",
    "\n",
    "# ==== Loop through each company ====\n",
    "for company in company_list:\n",
    "    try:\n",
    "        driver.get(website)\n",
    "        search_container = WebDriverWait(driver, 5).until(\n",
    "            EC.element_to_be_clickable((By.XPATH, \"//input[@class='_yb_d7nywr _yb_owcm9n  _yb_ikgg1k finsrch-inpt  ']\"))\n",
    "        )\n",
    "        search_container.click()\n",
    "        search_container.send_keys(company)\n",
    "        time.sleep(2)\n",
    "\n",
    "        for i in range(3):\n",
    "            matched_name = np.nan\n",
    "            revenue_ttm = np.nan\n",
    "\n",
    "            try:\n",
    "                result_xpath = f\"//ul[@role='listbox']/li[contains(@data-id , 'result-quotes-{i}')]/div[@class='modules-module_quoteLeftCol__yV9LA modules-module_Ell__N1WPm modules-module_IbBox__NPYId']\"\n",
    "                search_result = WebDriverWait(driver, 4).until(\n",
    "                    EC.element_to_be_clickable((By.XPATH, result_xpath))\n",
    "                )\n",
    "                search_result.click()\n",
    "                time.sleep(3)\n",
    "\n",
    "                try:\n",
    "                    matched_name = WebDriverWait(driver, 4).until(\n",
    "                        EC.presence_of_element_located((By.XPATH, \"//h1[@class='yf-xxbei9']\"))\n",
    "                    ).text.strip()\n",
    "                except Exception:\n",
    "                    matched_name = np.nan\n",
    "\n",
    "                try:\n",
    "                    stats_list = WebDriverWait(driver, 5).until(\n",
    "                        EC.presence_of_all_elements_located((By.XPATH, \"//p[@class='value yf-lc8fp0']\"))\n",
    "                    )\n",
    "                    revenue_ttm = stats_list[3].text.strip() if len(stats_list) > 3 else np.nan\n",
    "                except Exception:\n",
    "                    revenue_ttm = np.nan\n",
    "\n",
    "                print(f\"\\n✅ {company} → {matched_name} | Revenue (TTM): {revenue_ttm}\")\n",
    "\n",
    "            except Exception as e:\n",
    "                print(f\"❌ Skipped result-{i+1} for '{company}': {e}\")\n",
    "\n",
    "            output_data.append({\n",
    "                'Input_Company': company,\n",
    "                'Matched_Company': matched_name,\n",
    "                'Revenue_TTM': revenue_ttm\n",
    "            })\n",
    "\n",
    "            # Go back to search\n",
    "            driver.get(website)\n",
    "            search_container = WebDriverWait(driver, 5).until(\n",
    "                EC.element_to_be_clickable((By.XPATH, \"//input[@class='_yb_d7nywr _yb_owcm9n  _yb_ikgg1k finsrch-inpt  ']\"))\n",
    "            )\n",
    "            search_container.click()\n",
    "            search_container.send_keys(company)\n",
    "            time.sleep(2)\n",
    "\n",
    "    except Exception as e:\n",
    "        print(f\"❌ Error while processing '{company}': {e}\")\n",
    "\n",
    "driver.quit()\n",
    "\n",
    "# ==== Save to CSV ====\n",
    "df = pd.DataFrame(output_data)\n",
    "df.to_csv(output_file, index=False)\n",
    "\n",
    "print(f\"\\n📁 CSV saved as: {output_file}\")\n"
   ]
  },
  {
   "cell_type": "code",
   "execution_count": 31,
   "id": "6d17910e-64d7-4be5-8b0b-875410723e81",
   "metadata": {},
   "outputs": [],
   "source": [
    "df = pd.DataFrame(output_data)\n",
    "df.to_csv(output_file , index = False)"
   ]
  },
  {
   "cell_type": "code",
   "execution_count": 32,
   "id": "95f2048c-4758-4c36-815c-9f72db46bc62",
   "metadata": {},
   "outputs": [
    {
     "data": {
      "text/plain": [
       "437"
      ]
     },
     "execution_count": 32,
     "metadata": {},
     "output_type": "execute_result"
    }
   ],
   "source": [
    "len(df)"
   ]
  },
  {
   "cell_type": "code",
   "execution_count": null,
   "id": "ca1d3a66-0bb6-41ac-b21c-3f7b94ecf4ab",
   "metadata": {},
   "outputs": [],
   "source": []
  }
 ],
 "metadata": {
  "kernelspec": {
   "display_name": "Python 3 (ipykernel)",
   "language": "python",
   "name": "python3"
  },
  "language_info": {
   "codemirror_mode": {
    "name": "ipython",
    "version": 3
   },
   "file_extension": ".py",
   "mimetype": "text/x-python",
   "name": "python",
   "nbconvert_exporter": "python",
   "pygments_lexer": "ipython3",
   "version": "3.11.5"
  }
 },
 "nbformat": 4,
 "nbformat_minor": 5
}
